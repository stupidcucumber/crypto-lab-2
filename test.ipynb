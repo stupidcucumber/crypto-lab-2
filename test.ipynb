{
 "cells": [
  {
   "cell_type": "code",
   "execution_count": 1,
   "metadata": {},
   "outputs": [],
   "source": [
    "import math"
   ]
  },
  {
   "cell_type": "code",
   "execution_count": 2,
   "metadata": {},
   "outputs": [
    {
     "data": {
      "text/plain": [
       "1"
      ]
     },
     "execution_count": 2,
     "metadata": {},
     "output_type": "execute_result"
    }
   ],
   "source": [
    "math.gcd(7, 40)"
   ]
  },
  {
   "cell_type": "code",
   "execution_count": 3,
   "metadata": {},
   "outputs": [],
   "source": [
    "def find_d(e: int, m: int) -> int:\n",
    "    a = e\n",
    "    b = m\n",
    "    x = 0\n",
    "    y = 1\n",
    "    while True:\n",
    "        if a == 1:\n",
    "            return y\n",
    "        if a == 0:\n",
    "            raise ValueError('Does not exists!')\n",
    "        q = math.floor(b / a)\n",
    "        b = b - a * q\n",
    "        x = x + q * y\n",
    "        if b == 1:\n",
    "            return m - x\n",
    "        if b == 1:\n",
    "            raise ValueError('Does not exists!')\n",
    "        q = math.floor(a / b)\n",
    "        a = a - b * q\n",
    "        y = y + q * x"
   ]
  },
  {
   "cell_type": "code",
   "execution_count": 4,
   "metadata": {},
   "outputs": [
    {
     "data": {
      "text/plain": [
       "23"
      ]
     },
     "execution_count": 4,
     "metadata": {},
     "output_type": "execute_result"
    }
   ],
   "source": [
    "find_d(e=7, m=40)"
   ]
  },
  {
   "cell_type": "code",
   "execution_count": null,
   "metadata": {},
   "outputs": [],
   "source": []
  }
 ],
 "metadata": {
  "kernelspec": {
   "display_name": "testing",
   "language": "python",
   "name": "python3"
  },
  "language_info": {
   "codemirror_mode": {
    "name": "ipython",
    "version": 3
   },
   "file_extension": ".py",
   "mimetype": "text/x-python",
   "name": "python",
   "nbconvert_exporter": "python",
   "pygments_lexer": "ipython3",
   "version": "3.10.13"
  }
 },
 "nbformat": 4,
 "nbformat_minor": 2
}
